{
 "cells": [
  {
   "cell_type": "code",
   "execution_count": null,
   "id": "33c75937",
   "metadata": {},
   "outputs": [
    {
     "name": "stdout",
     "output_type": "stream",
     "text": [
      "Chi-square p-value: 3.883907781890198e-10\n",
      "T-test p-value: 3.6636251112510375e-12\n"
     ]
    }
   ],
   "source": [
    "from scipy.stats import chi2_contingency, ttest_ind\n",
    "import pandas as pd\n",
    "\n",
    "df=pd.read_csv('../data/cleaned/cleaned_missing_data.csv')\n",
    "# Hypothesis: Females more likely minors\n",
    "contingency = pd.crosstab(df['is_high_female'], df['is_high_minor'])\n",
    "chi2, p, _, _ = chi2_contingency(contingency)\n",
    "print(f'Chi-square p-value: {p}')  # If <0.05, significant\n",
    "\n",
    "# Urban vs Rural (assume a 'urban' flag; add based on district)\n",
    "urban_missing = df[df['district_name'].str.contains('Urban')]['total_missing']\n",
    "rural_missing = df[~df['district_name'].str.contains('Urban')]['total_missing']\n",
    "t_stat, p_val = ttest_ind(urban_missing, rural_missing)\n",
    "print(f'T-test p-value: {p_val}')\n"
   ]
  },
  {
   "cell_type": "code",
   "execution_count": null,
   "id": "c084cd90",
   "metadata": {},
   "outputs": [],
   "source": []
  }
 ],
 "metadata": {
  "kernelspec": {
   "display_name": "venv",
   "language": "python",
   "name": "python3"
  },
  "language_info": {
   "codemirror_mode": {
    "name": "ipython",
    "version": 3
   },
   "file_extension": ".py",
   "mimetype": "text/x-python",
   "name": "python",
   "nbconvert_exporter": "python",
   "pygments_lexer": "ipython3",
   "version": "3.12.0"
  }
 },
 "nbformat": 4,
 "nbformat_minor": 5
}
